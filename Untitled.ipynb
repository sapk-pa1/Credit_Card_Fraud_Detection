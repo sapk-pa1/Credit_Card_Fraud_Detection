{
 "cells": [
  {
   "cell_type": "code",
   "execution_count": 2,
   "id": "d7cea8cb",
   "metadata": {},
   "outputs": [],
   "source": [
    "import numpy as np \n",
    "import pandas as pd \n"
   ]
  },
  {
   "cell_type": "code",
   "execution_count": 6,
   "id": "ebb080fd",
   "metadata": {},
   "outputs": [],
   "source": [
    "dataset = pd.read_csv(\"./dataset/creditcard.csv\")\n",
    "sample_data = dataset.sample(frac = 0.5 , random_state= 1)\n"
   ]
  },
  {
   "cell_type": "code",
   "execution_count": 7,
   "id": "8904c225",
   "metadata": {},
   "outputs": [
    {
     "name": "stdout",
     "output_type": "stream",
     "text": [
      "Valid Cases = 4407487\n",
      "Fraud Cases = 7037\n"
     ]
    }
   ],
   "source": [
    "fraud= sample_data[sample_data[\"Class\"] ==1]\n",
    "valid = sample_data[sample_data[\"Class\"]==0]\n",
    "print(\"Valid Cases = \"+ str(valid.size))\n",
    "print(\"Fraud Cases = \"+ str(fraud.size))"
   ]
  },
  {
   "cell_type": "code",
   "execution_count": null,
   "id": "e2209f41",
   "metadata": {},
   "outputs": [],
   "source": []
  }
 ],
 "metadata": {
  "kernelspec": {
   "display_name": "Python 3 (ipykernel)",
   "language": "python",
   "name": "python3"
  },
  "language_info": {
   "codemirror_mode": {
    "name": "ipython",
    "version": 3
   },
   "file_extension": ".py",
   "mimetype": "text/x-python",
   "name": "python",
   "nbconvert_exporter": "python",
   "pygments_lexer": "ipython3",
   "version": "3.10.0"
  }
 },
 "nbformat": 4,
 "nbformat_minor": 5
}
